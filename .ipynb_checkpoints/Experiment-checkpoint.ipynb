{
 "cells": [
  {
   "cell_type": "markdown",
   "metadata": {},
   "source": [
    "# Candy Crash Simulation\n",
    "# Experiment\n",
    "I want to know whether the same pattern in different location would affect the expectation, so i do some experiment in 9X9 board with 4 kind of candy."
   ]
  },
  {
   "cell_type": "code",
   "execution_count": null,
   "metadata": {},
   "outputs": [],
   "source": [
    "import numpy as np\n",
    "from random import randint\n",
    "import CandyCrashSimulation5X5_4 as f"
   ]
  },
  {
   "cell_type": "markdown",
   "metadata": {},
   "source": [
    "## Parameter"
   ]
  },
  {
   "cell_type": "code",
   "execution_count": 19,
   "metadata": {
    "scrolled": false
   },
   "outputs": [
    {
     "name": "stdout",
     "output_type": "stream",
     "text": [
      "size: 9 * 9\n"
     ]
    }
   ],
   "source": [
    "width = height = 9\n",
    "num_candy = 4\n",
    "N = 10000\n",
    "print(\"size: {} * {}\".format(width,height))"
   ]
  },
  {
   "cell_type": "markdown",
   "metadata": {},
   "source": [
    "### Random Board Example"
   ]
  },
  {
   "cell_type": "code",
   "execution_count": 24,
   "metadata": {},
   "outputs": [
    {
     "name": "stdout",
     "output_type": "stream",
     "text": [
      "[[2 3 2 0 2 1 1 3 0]\n",
      " [0 1 2 3 3 1 3 1 0]\n",
      " [1 1 3 0 2 2 3 0 3]\n",
      " [1 3 3 1 1 0 1 3 1]\n",
      " [0 0 1 3 2 0 1 0 1]\n",
      " [3 1 0 3 1 1 2 1 0]\n",
      " [2 0 1 1 0 1 1 2 1]\n",
      " [2 1 1 2 2 3 3 0 0]\n",
      " [0 1 2 0 1 3 3 0 2]]\n"
     ]
    }
   ],
   "source": [
    "print(np.array(f.initialize(height,width)))"
   ]
  },
  {
   "cell_type": "markdown",
   "metadata": {},
   "source": [
    "## Calculate\n",
    "The ouput array represent the expectation of eliminate specific candy.\n",
    "### 1. Horizontal Eliminate\n",
    "  Ex: exp3score[r][c] means the expectation of eliminate candy in location board[r][c], board[r][c+1], board[r][c+2]\n",
    "* 3 candy in a row in different row and column location"
   ]
  },
  {
   "cell_type": "code",
   "execution_count": 20,
   "metadata": {},
   "outputs": [
    {
     "name": "stdout",
     "output_type": "stream",
     "text": [
      "[[ 4.9863  5.7324  5.9561  5.9827  6.0894  5.7053  4.9294]\n",
      " [ 6.9637  8.0382  8.8359  8.967   8.8137  8.0469  7.0762]\n",
      " [ 9.4146 11.209  12.736  12.5607 12.8001 11.1439  9.5001]\n",
      " [10.7859 13.073  14.9296 14.8566 14.9679 12.7831 10.8206]\n",
      " [12.4611 15.0237 17.3426 17.8604 17.4106 15.0199 12.3889]\n",
      " [13.7816 17.3276 19.8177 20.0506 20.0775 16.8964 13.7349]\n",
      " [15.8965 19.4891 22.7096 23.7245 22.6479 19.4844 15.7679]\n",
      " [15.1634 19.2124 22.5113 22.8318 22.5092 19.0143 15.2546]\n",
      " [14.7247 18.3993 22.4808 22.7004 22.23   18.257  14.4622]]\n"
     ]
    }
   ],
   "source": [
    "exp3score = np.zeros((width - 2) * height).reshape(height,(width - 2)) \n",
    "for row in range(height):\n",
    "    for col in range(width - 2):\n",
    "            for i in range(N):\n",
    "                board = f.initialize(height,width)\n",
    "                board[row][col] = 1\n",
    "                board[row][col + 1] = 1\n",
    "                board[row][col + 2] = 1\n",
    "                newboard,score = f.eliminate_to_static(board,height,width)\n",
    "                exp3score[row][col] += score\n",
    "exp3score /= N\n",
    "print(exp3score)"
   ]
  },
  {
   "cell_type": "markdown",
   "metadata": {},
   "source": [
    "* 4 candy in a row in different row and column location"
   ]
  },
  {
   "cell_type": "code",
   "execution_count": 21,
   "metadata": {},
   "outputs": [
    {
     "name": "stdout",
     "output_type": "stream",
     "text": [
      "[[ 6.6274  7.2164  7.522   7.5527  7.222   6.6377]\n",
      " [ 9.145  10.5142 10.8998 10.9175 10.3316  9.3301]\n",
      " [12.1856 14.1548 15.2199 15.1934 13.7948 12.4486]\n",
      " [14.3677 16.4078 17.7543 17.5995 16.3523 14.0447]\n",
      " [15.9725 18.4114 20.6309 20.3315 18.6071 15.9255]\n",
      " [17.8682 20.3299 23.0321 23.0598 20.9262 17.8318]\n",
      " [20.0618 23.3054 26.0129 26.4191 23.3188 20.3276]\n",
      " [18.8153 22.3844 25.1568 25.2197 22.21   19.0539]\n",
      " [17.1924 20.0717 23.5688 23.4454 19.7726 17.5099]]\n"
     ]
    }
   ],
   "source": [
    "exp4score = np.zeros((width - 3) * height).reshape(height,(width - 3)) \n",
    "for row in range(height):\n",
    "    for col in range(width - 3):\n",
    "            for i in range(N):\n",
    "                board = f.initialize(height,width)\n",
    "                board[row][col] = 1\n",
    "                board[row][col + 1] = 1\n",
    "                board[row][col + 2] = 1\n",
    "                board[row][col + 3] = 1\n",
    "                newboard,score = f.eliminate_to_static(board,height,width)\n",
    "                exp4score[row][col] += score\n",
    "exp4score /= N\n",
    "print(exp4score)"
   ]
  },
  {
   "cell_type": "markdown",
   "metadata": {},
   "source": [
    "* 5 candy in a row in different row and column location"
   ]
  },
  {
   "cell_type": "code",
   "execution_count": 25,
   "metadata": {},
   "outputs": [
    {
     "name": "stdout",
     "output_type": "stream",
     "text": [
      "[[ 8.2493  8.7564  9.0387  8.7806  8.2208]\n",
      " [11.4122 12.2806 13.036  12.4363 11.3817]\n",
      " [15.2898 17.015  17.8946 16.8561 15.1732]\n",
      " [17.383  19.049  20.6005 19.1722 17.4413]\n",
      " [19.1157 21.8855 23.2483 21.4033 19.5842]\n",
      " [21.4596 23.2278 25.7521 23.6915 21.5469]\n",
      " [23.9516 26.7399 29.2844 26.7049 23.6885]\n",
      " [22.0666 24.2212 27.2318 24.5753 21.8814]\n",
      " [19.5748 21.3887 24.3937 21.8319 19.2818]]\n"
     ]
    }
   ],
   "source": [
    "exp5score = np.zeros((width - 4) * height).reshape(height,(width - 4)) \n",
    "for row in range(height):\n",
    "    for col in range(width - 4):\n",
    "            for i in range(N):\n",
    "                board = f.initialize(height,width)\n",
    "                board[row][col] = 1\n",
    "                board[row][col + 1] = 1\n",
    "                board[row][col + 2] = 1\n",
    "                board[row][col + 3] = 1\n",
    "                board[row][col + 4] = 1\n",
    "                newboard,score = f.eliminate_to_static(board,height,width)\n",
    "                exp5score[row][col] += score\n",
    "exp5score /= N\n",
    "print(exp5score)"
   ]
  },
  {
   "cell_type": "markdown",
   "metadata": {},
   "source": [
    "### 2. Vertical Eliminate\n",
    "Ex: exp3Vscore[r][c] means the expectation of eliminate candy in location board[r][c], board[r+1][c], board[r+2][c]\n",
    "* 3 candy in a column in different row and column location"
   ]
  },
  {
   "cell_type": "code",
   "execution_count": 27,
   "metadata": {},
   "outputs": [
    {
     "name": "stdout",
     "output_type": "stream",
     "text": [
      "[[ 5.1248  6.7924  8.2864  8.545   8.6711  8.4651  8.36    6.8289  5.208 ]\n",
      " [ 6.2436  8.8095 10.9702 11.4479 11.7547 11.3786 10.8517  8.8471  6.32  ]\n",
      " [ 6.9625 10.5848 13.3913 13.5871 14.2746 13.6066 13.0762 10.5709  7.0517]\n",
      " [ 7.5273 11.6672 15.3584 15.8649 16.5761 15.8018 15.3131 11.7751  7.5614]\n",
      " [ 8.055  12.9858 17.1862 18.0035 19.004  18.1837 17.2231 12.9321  8.0694]\n",
      " [ 8.3152 14.0418 18.2196 19.4294 20.6887 19.5465 18.5501 13.7243  8.2802]\n",
      " [ 8.0644 13.9568 18.8757 19.8582 21.3133 19.8533 18.9409 14.2871  8.2846]]\n"
     ]
    }
   ],
   "source": [
    "exp3Vscore = np.zeros(width * (height - 2)).reshape(height - 2,width) \n",
    "for row in range(height - 2):\n",
    "    for col in range(width):\n",
    "            for i in range(N):\n",
    "                board = f.initialize(height,width)\n",
    "                board[row][col] = 1\n",
    "                board[row + 1][col] = 1\n",
    "                board[row + 2][col] = 1\n",
    "                newboard,score = f.eliminate_to_static(board,height,width)\n",
    "                exp3Vscore[row][col] += score\n",
    "exp3Vscore /= N\n",
    "print(exp3Vscore)"
   ]
  },
  {
   "cell_type": "markdown",
   "metadata": {},
   "source": [
    "* 4 candy in a column in different row and column location"
   ]
  },
  {
   "cell_type": "code",
   "execution_count": 28,
   "metadata": {},
   "outputs": [
    {
     "name": "stdout",
     "output_type": "stream",
     "text": [
      "[[ 6.939   9.4151 11.5678 11.8015 12.4799 11.6666 11.5765  9.3508  6.855 ]\n",
      " [ 8.1173 11.9004 14.5834 15.2059 15.7648 14.9063 14.6973 11.8426  8.0654]\n",
      " [ 9.0504 13.3954 17.0296 17.6794 18.5712 18.0434 16.7854 13.5296  8.85  ]\n",
      " [ 9.5572 14.995  19.105  19.88   21.1024 19.9813 19.4057 14.8058  9.6611]\n",
      " [ 9.8883 15.6958 20.4972 21.2454 22.6846 21.4862 20.3457 15.5112  9.737 ]\n",
      " [ 9.6046 15.7743 21.0101 22.1737 23.3574 22.1602 20.8306 15.7754  9.5361]]\n"
     ]
    }
   ],
   "source": [
    "exp4Vscore = np.zeros(width * (height - 3)).reshape(height - 3,width) \n",
    "for row in range(height - 3):\n",
    "    for col in range(width):\n",
    "            for i in range(N):\n",
    "                board = f.initialize(height,width)\n",
    "                board[row][col] = 1\n",
    "                board[row + 1][col] = 1\n",
    "                board[row + 2][col] = 1\n",
    "                board[row + 3][col] = 1\n",
    "                newboard,score = f.eliminate_to_static(board,height,width)\n",
    "                exp4Vscore[row][col] += score\n",
    "exp4Vscore /= N\n",
    "print(exp4Vscore)"
   ]
  },
  {
   "cell_type": "markdown",
   "metadata": {},
   "source": [
    "* 5 candy in a column in different row and column location"
   ]
  },
  {
   "cell_type": "code",
   "execution_count": 29,
   "metadata": {},
   "outputs": [
    {
     "name": "stdout",
     "output_type": "stream",
     "text": [
      "[[ 8.6733 12.169  14.9973 15.4462 16.258  15.4658 14.9468 12.3539  8.8169]\n",
      " [ 9.9312 14.6421 18.2118 19.19   19.9397 19.0555 18.8028 14.8618 10.1818]\n",
      " [10.9071 16.459  20.9585 22.1285 23.0643 22.2253 20.8902 16.2526 10.8684]\n",
      " [11.2206 17.3051 22.6856 23.3404 24.7667 23.7    22.5337 17.2241 10.9851]\n",
      " [11.1978 17.5898 23.0622 24.1184 25.7895 24.3546 23.0324 17.6968 11.0691]]\n"
     ]
    }
   ],
   "source": [
    "exp5Vscore = np.zeros(width * (height - 4)).reshape(height - 4,width) \n",
    "for row in range(height - 4):\n",
    "    for col in range(width):\n",
    "            for i in range(N):\n",
    "                board = f.initialize(height,width)\n",
    "                board[row][col] = 1\n",
    "                board[row + 1][col] = 1\n",
    "                board[row + 2][col] = 1\n",
    "                board[row + 3][col] = 1\n",
    "                board[row + 4][col] = 1\n",
    "                newboard,score = f.eliminate_to_static(board,height,width)\n",
    "                exp5Vscore[row][col] += score\n",
    "exp5Vscore /= N\n",
    "print(exp5Vscore)"
   ]
  },
  {
   "cell_type": "markdown",
   "metadata": {},
   "source": [
    "### 3. Specific shape\n",
    "* L shape  \n",
    "__Notice that the L case in the four corner can't be achieve in real world.__\n",
    "> o  \n",
    "> o  \n",
    "> o  o  o  \n",
    "\n",
    "Ex: exp1Lscore[r][c] means the expectation of eliminate candy in location board[r][c], board[r+1][c], board[r+2][c], board[r+2][c+1], board[r+2][c+2]\n"
   ]
  },
  {
   "cell_type": "code",
   "execution_count": 31,
   "metadata": {},
   "outputs": [
    {
     "name": "stdout",
     "output_type": "stream",
     "text": [
      "[[11.9969 14.4891 16.0857 16.2317 16.1439 14.7912 13.2378]\n",
      " [14.4445 17.3889 19.7947 20.7027 20.0251 18.3659 16.103 ]\n",
      " [16.2098 20.6699 23.2617 23.7995 23.6786 21.4442 18.6067]\n",
      " [17.8603 22.7288 26.4464 27.2761 26.8257 24.4546 21.0356]\n",
      " [20.08   25.82   29.7106 30.2678 30.2183 26.8287 23.226 ]\n",
      " [19.8588 25.9957 30.2572 31.12   30.8282 27.4892 23.7034]\n",
      " [19.5851 25.8839 30.0329 30.9871 31.5516 26.767  23.4021]]\n"
     ]
    }
   ],
   "source": [
    "exp1Lscore = np.zeros((width - 2) * (height - 2)).reshape(height - 2,width - 2) \n",
    "for row in range(height - 2):\n",
    "    for col in range(width - 2):\n",
    "            for i in range(N):\n",
    "                board = f.initialize(height,width)\n",
    "                board[row][col] = 1\n",
    "                board[row + 1][col] = 1\n",
    "                board[row + 2][col] = 1\n",
    "                board[row + 2][col + 1] = 1\n",
    "                board[row + 2][col + 2] = 1\n",
    "                newboard,score = f.eliminate_to_static(board,height,width)\n",
    "                exp1Lscore[row][col] += score\n",
    "exp1Lscore /= N\n",
    "print(exp1Lscore)"
   ]
  },
  {
   "cell_type": "markdown",
   "metadata": {},
   "source": [
    "> o  o  o  \n",
    "> o  \n",
    "> o\n",
    "\n",
    "Ex: exp2Lscore[r][c] means the expectation of eliminate candy in location board[r][c], board[r][c+1], board[r][c+2], board[r+1][c], board[r+2][c]"
   ]
  },
  {
   "cell_type": "code",
   "execution_count": 32,
   "metadata": {},
   "outputs": [
    {
     "name": "stdout",
     "output_type": "stream",
     "text": [
      "[[ 8.6479 10.5474 12.0196 12.1483 12.4208 11.8651 11.1774]\n",
      " [11.0942 13.9569 15.9955 16.3124 16.6221 15.6773 14.5285]\n",
      " [13.6741 17.3606 20.2459 20.9735 21.2221 19.7142 17.7031]\n",
      " [15.5143 19.6477 23.2116 24.0253 24.3469 21.9991 19.9229]\n",
      " [17.0351 22.3663 26.3241 27.0201 27.735  24.8475 22.0148]\n",
      " [18.0771 23.8874 28.6658 29.5193 30.08   26.4338 23.6535]\n",
      " [19.437  25.631  30.2093 31.1131 31.4136 28.1528 24.4313]]\n"
     ]
    }
   ],
   "source": [
    "exp2Lscore = np.zeros((width - 2) * (height - 2)).reshape(height - 2,width - 2) \n",
    "for row in range(height - 2):\n",
    "    for col in range(width - 2):\n",
    "            for i in range(N):\n",
    "                board = f.initialize(height,width)\n",
    "                board[row][col] = 1\n",
    "                board[row][col + 1] = 1\n",
    "                board[row][col + 2] = 1\n",
    "                board[row + 1][col] = 1\n",
    "                board[row + 2][col] = 1\n",
    "                newboard,score = f.eliminate_to_static(board,height,width)\n",
    "                exp2Lscore[row][col] += score\n",
    "exp2Lscore /= N\n",
    "print(exp2Lscore)"
   ]
  },
  {
   "cell_type": "markdown",
   "metadata": {},
   "source": [
    "* T shape  \n",
    "__Notice that there are some case can't be achieve in real world.__  \n",
    " > o o o  \n",
    " > &nbsp;&nbsp;&nbsp;o  \n",
    " > &nbsp;&nbsp;&nbsp;o      \n",
    " \n",
    "Ex: exp1Tscore[r][c] means the expectation of eliminate candy in location board[r][c], board[r][c+1], board[r][c+2], board[r+1][c+1], board[r+2][c+1]"
   ]
  },
  {
   "cell_type": "code",
   "execution_count": 33,
   "metadata": {},
   "outputs": [
    {
     "name": "stdout",
     "output_type": "stream",
     "text": [
      "[[10.1567 11.6252 12.0831 12.4115 12.0603 11.5773 10.0114]\n",
      " [13.0118 15.4656 16.4506 16.6722 16.5287 15.5349 12.7143]\n",
      " [16.278  19.3683 20.6416 21.6666 20.9018 19.1841 15.9299]\n",
      " [18.2804 22.0428 23.9325 24.9029 24.0611 22.1833 17.9395]\n",
      " [20.158  24.7335 27.4474 28.3496 26.9643 24.7156 20.2542]\n",
      " [21.717  26.6216 29.8391 30.7478 30.0626 26.8601 21.4676]\n",
      " [22.7346 28.1559 31.655  33.1661 31.9323 28.4215 22.5158]]\n"
     ]
    }
   ],
   "source": [
    "exp1Tscore = np.zeros((width - 2) * (height - 2)).reshape(height - 2,width - 2) \n",
    "for row in range(height - 2):\n",
    "    for col in range(width - 2):\n",
    "            for i in range(N):\n",
    "                board = f.initialize(height,width)\n",
    "                board[row][col] = 1\n",
    "                board[row][col+1] = 1\n",
    "                board[row][col+2] = 1\n",
    "                board[row + 1][col + 1] = 1\n",
    "                board[row + 2][col + 1] = 1\n",
    "                newboard,score = f.eliminate_to_static(board,height,width)\n",
    "                exp1Tscore[row][col] += score\n",
    "exp1Tscore /= N\n",
    "print(exp1Tscore)"
   ]
  },
  {
   "cell_type": "markdown",
   "metadata": {},
   "source": [
    " > &nbsp;&nbsp;&nbsp;o  \n",
    " > &nbsp;&nbsp;&nbsp;o  \n",
    " > o o o \n",
    " \n",
    "Ex: exp1Tscore[r][c] means the expectation of eliminate candy in location board[r][c], board[r][c+1], board[r][c-1], board[r+1][c], board[r+2][c]\n",
    "\n",
    "__Notice that the column 0 can't represent any inverse T shape so I just remain output value as 0.__"
   ]
  },
  {
   "cell_type": "code",
   "execution_count": 34,
   "metadata": {},
   "outputs": [
    {
     "name": "stdout",
     "output_type": "stream",
     "text": [
      "[[ 0.     10.0205 11.7012 11.9504 12.3433 11.8972 11.6692]\n",
      " [ 0.     13.1167 15.4798 16.5121 16.9296 16.3839 15.5356]\n",
      " [ 0.     15.9655 19.2074 20.8073 21.1275 20.6214 19.1628]\n",
      " [ 0.     18.1015 22.3963 24.1333 25.0171 24.2626 22.2148]\n",
      " [ 0.     20.015  24.9685 27.3244 28.3953 27.2128 24.8733]\n",
      " [ 0.     21.7125 27.1335 29.8059 30.5988 29.9537 26.5434]\n",
      " [ 0.     22.6959 28.302  31.9708 33.1125 31.88   28.383 ]]\n"
     ]
    }
   ],
   "source": [
    "exp1Tscore = np.zeros((width - 2) * (height - 2)).reshape(height - 2,width - 2) \n",
    "for row in range(height - 2):\n",
    "    for col in range(1,width - 2):\n",
    "            for i in range(N):\n",
    "                board = f.initialize(height,width)\n",
    "                board[row][col] = 1\n",
    "                board[row][col+1] = 1\n",
    "                board[row][col-1] = 1\n",
    "                board[row + 1][col] = 1\n",
    "                board[row + 2][col] = 1\n",
    "                newboard,score = f.eliminate_to_static(board,height,width)\n",
    "                exp1Tscore[row][col] += score\n",
    "exp1Tscore /= N\n",
    "print(exp1Tscore)"
   ]
  },
  {
   "cell_type": "code",
   "execution_count": null,
   "metadata": {},
   "outputs": [],
   "source": []
  }
 ],
 "metadata": {
  "kernelspec": {
   "display_name": "Python 3",
   "language": "python",
   "name": "python3"
  },
  "language_info": {
   "codemirror_mode": {
    "name": "ipython",
    "version": 3
   },
   "file_extension": ".py",
   "mimetype": "text/x-python",
   "name": "python",
   "nbconvert_exporter": "python",
   "pygments_lexer": "ipython3",
   "version": "3.6.4"
  }
 },
 "nbformat": 4,
 "nbformat_minor": 2
}
