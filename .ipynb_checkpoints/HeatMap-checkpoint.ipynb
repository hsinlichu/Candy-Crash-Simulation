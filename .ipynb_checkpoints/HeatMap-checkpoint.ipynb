{
 "cells": [
  {
   "cell_type": "code",
   "execution_count": 1,
   "metadata": {},
   "outputs": [],
   "source": [
    "import random\n",
    "import numpy as np\n",
    "import plotly\n",
    "from plotly import tools\n",
    "import plotly.plotly as py\n",
    "import plotly.graph_objs as go\n",
    "import CandyCrashSimulationNXN_4 as f"
   ]
  },
  {
   "cell_type": "code",
   "execution_count": 2,
   "metadata": {},
   "outputs": [
    {
     "name": "stdout",
     "output_type": "stream",
     "text": [
      "size: 9 * 9\n"
     ]
    }
   ],
   "source": [
    "width = height = 9\n",
    "num_candy = 4\n",
    "N = 10000\n",
    "print(\"size: {} * {}\".format(width,height))"
   ]
  },
  {
   "cell_type": "markdown",
   "metadata": {},
   "source": [
    "## Horizontal Eliminate"
   ]
  },
  {
   "cell_type": "code",
   "execution_count": 3,
   "metadata": {},
   "outputs": [],
   "source": [
    "heatmapH = np.zeros(width * height * height).reshape(height,width,height)\n",
    "for row in range(height):\n",
    "    for i in range(N):\n",
    "        board = f.initialize(height,width)\n",
    "        board[row][3] = 1\n",
    "        board[row][3 + 1] = 1\n",
    "        board[row][3 + 2] = 1\n",
    "        newboard,mark,score = f.eliminate_to_static(board,height,width)\n",
    "        heatmapH[row] += mark\n",
    "heatmapH /= N\n",
    "#print(heatmap)"
   ]
  },
  {
   "cell_type": "code",
   "execution_count": 4,
   "metadata": {},
   "outputs": [
    {
     "name": "stdout",
     "output_type": "stream",
     "text": [
      "This is the format of your plot grid:\n",
      "[ (1,1) x1,y1 ]    [ (1,2) x2,y2 ]    [ (1,3) x3,y3 ]    [ (1,4) x4,y4 ]    [ (1,5) x5,y5 ]  \n",
      "[ (2,1) x6,y6 ]    [ (2,2) x7,y7 ]    [ (2,3) x8,y8 ]    [ (2,4) x9,y9 ]    [ (2,5) x10,y10 ]\n",
      "\n"
     ]
    },
    {
     "data": {
      "text/html": [
       "<iframe id=\"igraph\" scrolling=\"no\" style=\"border:none;\" seamless=\"seamless\" src=\"https://plot.ly/~jameschu/6.embed\" height=\"525px\" width=\"100%\"></iframe>"
      ],
      "text/plain": [
       "<plotly.tools.PlotlyDisplay object>"
      ]
     },
     "execution_count": 4,
     "metadata": {},
     "output_type": "execute_result"
    }
   ],
   "source": [
    "plotly.tools.set_credentials_file(username='jameschu', api_key='WBgAtN4Z5CrmPtpUagy7')\n",
    "fig = tools.make_subplots(rows=2, cols=5)\n",
    "for row in range(height):\n",
    "    trace = go.Heatmap(z=list(heatmapH[row]),x=['0','1','2','3','4','5','6','7','8'],y=['8','7','6','5','4','3','2','1','0'])\n",
    "    data = [trace]\n",
    "    fig.append_trace(trace, row//5+1, row%5+1)\n",
    "fig['layout'].update(title='Horizontal Eliminate')\n",
    "py.iplot(fig, filename='EliminateCandyLocationHorizontal')\n",
    "#py.iplot(data,filename='EliminateCandyLocationRow{}'.format(1))\n",
    "    "
   ]
  },
  {
   "cell_type": "markdown",
   "metadata": {},
   "source": [
    "## Vertical Eliminate"
   ]
  },
  {
   "cell_type": "code",
   "execution_count": 5,
   "metadata": {},
   "outputs": [],
   "source": [
    "heatmapV = np.zeros((height-2)*height*width).reshape((height-2),height,width)\n",
    "for row in range(height-2):\n",
    "    for i in range(N):\n",
    "        board = f.initialize(height,width)\n",
    "        board[row][4] = 1\n",
    "        board[row+1][4] = 1\n",
    "        board[row+2][4] = 1\n",
    "        newboard,mark,score = f.eliminate_to_static(board,height,width)\n",
    "        heatmapV[row] += mark\n",
    "heatmapV /= N\n",
    "#print(heatmap)"
   ]
  },
  {
   "cell_type": "code",
   "execution_count": 10,
   "metadata": {},
   "outputs": [
    {
     "name": "stdout",
     "output_type": "stream",
     "text": [
      "This is the format of your plot grid:\n",
      "[ (1,1) x1,y1 ]  [ (1,2) x2,y2 ]  [ (1,3) x3,y3 ]  [ (1,4) x4,y4 ]\n",
      "[ (2,1) x5,y5 ]  [ (2,2) x6,y6 ]  [ (2,3) x7,y7 ]  [ (2,4) x8,y8 ]\n",
      "\n"
     ]
    },
    {
     "data": {
      "text/html": [
       "<iframe id=\"igraph\" scrolling=\"no\" style=\"border:none;\" seamless=\"seamless\" src=\"https://plot.ly/~jameschu/4.embed\" height=\"525px\" width=\"100%\"></iframe>"
      ],
      "text/plain": [
       "<plotly.tools.PlotlyDisplay object>"
      ]
     },
     "execution_count": 10,
     "metadata": {},
     "output_type": "execute_result"
    }
   ],
   "source": [
    "plotly.tools.set_credentials_file(username='jameschu', api_key='WBgAtN4Z5CrmPtpUagy7')\n",
    "fig2 = tools.make_subplots(rows=2, cols=4)\n",
    "for row in range(height-2):\n",
    "    trace = go.Heatmap(z=list(heatmapV[row]),x=['0','1','2','3','4','5','6','7','8'],y=['8','7','6','5','4','3','2','1','0'])\n",
    "    data = [trace]\n",
    "    fig2.append_trace(trace, row//4+1, row%4+1)\n",
    "fig2['layout'].update(title='Vertical Eliminate Center')\n",
    "py.iplot(fig2, filename='EliminateCandyLocationVertical')"
   ]
  },
  {
   "cell_type": "code",
   "execution_count": 7,
   "metadata": {},
   "outputs": [],
   "source": [
    "heatmapVL = np.zeros((height-2)*height*width).reshape((height-2),height,width)\n",
    "for row in range(height-2):\n",
    "    for i in range(N):\n",
    "        board = f.initialize(height,width)\n",
    "        board[row][0] = 1\n",
    "        board[row+1][0] = 1\n",
    "        board[row+2][0] = 1\n",
    "        newboard,mark,score = f.eliminate_to_static(board,height,width)\n",
    "        heatmapVL[row] += mark\n",
    "heatmapVL /= N\n",
    "#print(heatmapVL)"
   ]
  },
  {
   "cell_type": "code",
   "execution_count": 11,
   "metadata": {},
   "outputs": [
    {
     "name": "stdout",
     "output_type": "stream",
     "text": [
      "This is the format of your plot grid:\n",
      "[ (1,1) x1,y1 ]  [ (1,2) x2,y2 ]  [ (1,3) x3,y3 ]  [ (1,4) x4,y4 ]\n",
      "[ (2,1) x5,y5 ]  [ (2,2) x6,y6 ]  [ (2,3) x7,y7 ]  [ (2,4) x8,y8 ]\n",
      "\n"
     ]
    },
    {
     "data": {
      "text/html": [
       "<iframe id=\"igraph\" scrolling=\"no\" style=\"border:none;\" seamless=\"seamless\" src=\"https://plot.ly/~jameschu/8.embed\" height=\"525px\" width=\"100%\"></iframe>"
      ],
      "text/plain": [
       "<plotly.tools.PlotlyDisplay object>"
      ]
     },
     "execution_count": 11,
     "metadata": {},
     "output_type": "execute_result"
    }
   ],
   "source": [
    "plotly.tools.set_credentials_file(username='jameschu', api_key='WBgAtN4Z5CrmPtpUagy7')\n",
    "fig2L = tools.make_subplots(rows=2, cols=4)\n",
    "for row in range(height-2):\n",
    "    trace = go.Heatmap(z=list(heatmapVL[row]),x=['0','1','2','3','4','5','6','7','8'],y=['8','7','6','5','4','3','2','1','0'])\n",
    "    data = [trace]\n",
    "    fig2L.append_trace(trace, row//4+1, row%4+1)\n",
    "fig2L['layout'].update(title='Vertical Eliminate Left')\n",
    "py.iplot(fig2L, filename='EliminateCandyLocationVerticalLeft')"
   ]
  }
 ],
 "metadata": {
  "kernelspec": {
   "display_name": "Python 3",
   "language": "python",
   "name": "python3"
  },
  "language_info": {
   "codemirror_mode": {
    "name": "ipython",
    "version": 3
   },
   "file_extension": ".py",
   "mimetype": "text/x-python",
   "name": "python",
   "nbconvert_exporter": "python",
   "pygments_lexer": "ipython3",
   "version": "3.6.4"
  }
 },
 "nbformat": 4,
 "nbformat_minor": 2
}
